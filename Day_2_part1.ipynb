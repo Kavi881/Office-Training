{
 "cells": [
  {
   "cell_type": "markdown",
   "id": "6cbf1dda-4710-4f7e-9d21-343eb3d9c709",
   "metadata": {},
   "source": [
    "Creating a dummy data of 34 data items or more\n",
    "explore the data: type. shape, mathematical operations\n",
    "Convert your dummy data into an array.\n",
    "type. shape, mathematical operation"
   ]
  },
  {
   "cell_type": "code",
   "execution_count": 5,
   "id": "ea66e8c0-8034-4413-a7ab-b900b4fa9341",
   "metadata": {},
   "outputs": [],
   "source": [
    "data=[52,99, 53, 64, 10, 87, 33, 5, 77, 35, 27, 84, 17, 9, 39, 44, 26, 70, 40, 11, 68, 60, 59, 41, 52, 50, 23, 56, 78, 1, 4, 36, 8, 30, 46, 74]"
   ]
  },
  {
   "cell_type": "code",
   "execution_count": 7,
   "id": "50e936a3-1bdd-4014-bfbd-769c2fa311ba",
   "metadata": {},
   "outputs": [
    {
     "data": {
      "text/plain": [
       "list"
      ]
     },
     "execution_count": 7,
     "metadata": {},
     "output_type": "execute_result"
    }
   ],
   "source": [
    "type(data)"
   ]
  },
  {
   "cell_type": "code",
   "execution_count": 9,
   "id": "fc83c74b-a4c2-4dbc-be92-a7edb02ed553",
   "metadata": {},
   "outputs": [
    {
     "name": "stdout",
     "output_type": "stream",
     "text": [
      "<class 'list'>\n"
     ]
    }
   ],
   "source": [
    "print(type(data))"
   ]
  },
  {
   "cell_type": "code",
   "execution_count": 15,
   "id": "36a13722-ed1d-4930-9707-7f210a3f0b9f",
   "metadata": {},
   "outputs": [
    {
     "data": {
      "text/plain": [
       "[52,\n",
       " 99,\n",
       " 53,\n",
       " 64,\n",
       " 10,\n",
       " 87,\n",
       " 33,\n",
       " 5,\n",
       " 77,\n",
       " 35,\n",
       " 27,\n",
       " 84,\n",
       " 17,\n",
       " 9,\n",
       " 39,\n",
       " 44,\n",
       " 26,\n",
       " 70,\n",
       " 40,\n",
       " 11,\n",
       " 68,\n",
       " 60,\n",
       " 59,\n",
       " 41,\n",
       " 52,\n",
       " 50,\n",
       " 23,\n",
       " 56,\n",
       " 78,\n",
       " 1,\n",
       " 4,\n",
       " 36,\n",
       " 8,\n",
       " 30,\n",
       " 46,\n",
       " 74,\n",
       " 52,\n",
       " 99,\n",
       " 53,\n",
       " 64,\n",
       " 10,\n",
       " 87,\n",
       " 33,\n",
       " 5,\n",
       " 77,\n",
       " 35,\n",
       " 27,\n",
       " 84,\n",
       " 17,\n",
       " 9,\n",
       " 39,\n",
       " 44,\n",
       " 26,\n",
       " 70,\n",
       " 40,\n",
       " 11,\n",
       " 68,\n",
       " 60,\n",
       " 59,\n",
       " 41,\n",
       " 52,\n",
       " 50,\n",
       " 23,\n",
       " 56,\n",
       " 78,\n",
       " 1,\n",
       " 4,\n",
       " 36,\n",
       " 8,\n",
       " 30,\n",
       " 46,\n",
       " 74]"
      ]
     },
     "execution_count": 15,
     "metadata": {},
     "output_type": "execute_result"
    }
   ],
   "source": [
    "data*2"
   ]
  },
  {
   "cell_type": "code",
   "execution_count": 17,
   "id": "73e0542c-3155-4c83-af7a-a54bd948ae9d",
   "metadata": {},
   "outputs": [],
   "source": [
    "import numpy as np"
   ]
  },
  {
   "cell_type": "code",
   "execution_count": 19,
   "id": "c242fbdf-13a2-4817-b5d2-faa6d58a169e",
   "metadata": {},
   "outputs": [],
   "source": [
    "grades=np.array(data)"
   ]
  },
  {
   "cell_type": "code",
   "execution_count": 21,
   "id": "54831d53-5620-494c-92b4-8cbf5e20ef59",
   "metadata": {},
   "outputs": [
    {
     "data": {
      "text/plain": [
       "array([52, 99, 53, 64, 10, 87, 33,  5, 77, 35, 27, 84, 17,  9, 39, 44, 26,\n",
       "       70, 40, 11, 68, 60, 59, 41, 52, 50, 23, 56, 78,  1,  4, 36,  8, 30,\n",
       "       46, 74])"
      ]
     },
     "execution_count": 21,
     "metadata": {},
     "output_type": "execute_result"
    }
   ],
   "source": [
    "grades"
   ]
  },
  {
   "cell_type": "code",
   "execution_count": 23,
   "id": "f719cb8b-3bb6-449c-85e1-d9979d746db8",
   "metadata": {},
   "outputs": [
    {
     "data": {
      "text/plain": [
       "numpy.ndarray"
      ]
     },
     "execution_count": 23,
     "metadata": {},
     "output_type": "execute_result"
    }
   ],
   "source": [
    "type(grades)"
   ]
  },
  {
   "cell_type": "code",
   "execution_count": 25,
   "id": "29b02f69-d1a7-4011-881d-005aadda34fc",
   "metadata": {},
   "outputs": [
    {
     "name": "stdout",
     "output_type": "stream",
     "text": [
      "<class 'numpy.ndarray'>\n"
     ]
    }
   ],
   "source": [
    "print(type(grades))"
   ]
  },
  {
   "cell_type": "code",
   "execution_count": 27,
   "id": "45638037-a8cc-4a17-9c9e-9e1847fa145f",
   "metadata": {},
   "outputs": [
    {
     "data": {
      "text/plain": [
       "(36,)"
      ]
     },
     "execution_count": 27,
     "metadata": {},
     "output_type": "execute_result"
    }
   ],
   "source": [
    "grades.shape"
   ]
  },
  {
   "cell_type": "code",
   "execution_count": 29,
   "id": "2b938423-96c6-4c76-82cb-872e620a256c",
   "metadata": {},
   "outputs": [
    {
     "data": {
      "text/plain": [
       "array([104, 198, 106, 128,  20, 174,  66,  10, 154,  70,  54, 168,  34,\n",
       "        18,  78,  88,  52, 140,  80,  22, 136, 120, 118,  82, 104, 100,\n",
       "        46, 112, 156,   2,   8,  72,  16,  60,  92, 148])"
      ]
     },
     "execution_count": 29,
     "metadata": {},
     "output_type": "execute_result"
    }
   ],
   "source": [
    "grades*2"
   ]
  },
  {
   "cell_type": "code",
   "execution_count": 31,
   "id": "12863e84-f0b7-45a1-9c6b-7a27ce118d3e",
   "metadata": {},
   "outputs": [
    {
     "data": {
      "text/plain": [
       "array([ 54, 101,  55,  66,  12,  89,  35,   7,  79,  37,  29,  86,  19,\n",
       "        11,  41,  46,  28,  72,  42,  13,  70,  62,  61,  43,  54,  52,\n",
       "        25,  58,  80,   3,   6,  38,  10,  32,  48,  76])"
      ]
     },
     "execution_count": 31,
     "metadata": {},
     "output_type": "execute_result"
    }
   ],
   "source": [
    "grades+2"
   ]
  },
  {
   "cell_type": "code",
   "execution_count": 33,
   "id": "bf725115-0ae0-4d57-968b-638d905cac12",
   "metadata": {},
   "outputs": [
    {
     "data": {
      "text/plain": [
       "43.55555555555556"
      ]
     },
     "execution_count": 33,
     "metadata": {},
     "output_type": "execute_result"
    }
   ],
   "source": [
    "grades.mean()"
   ]
  },
  {
   "cell_type": "code",
   "execution_count": null,
   "id": "e9bbf5dc-5775-4bdf-9c09-d9ee2b0240bb",
   "metadata": {},
   "outputs": [],
   "source": []
  },
  {
   "cell_type": "code",
   "execution_count": null,
   "id": "7d1731e5-c4b4-4382-b514-dc773295d057",
   "metadata": {},
   "outputs": [],
   "source": []
  },
  {
   "cell_type": "markdown",
   "id": "14c41535-1669-46e4-8701-27e08c5223eb",
   "metadata": {},
   "source": [
    "random number egenrator\n",
    " \n",
    "normal disticbuted or unofrm distributed data\n",
    " \n",
    "rand, randn and randi numbers\n",
    " \n",
    "rand()\n",
    "randn()\n",
    "randi()\n",
    " "
   ]
  },
  {
   "cell_type": "code",
   "execution_count": 38,
   "id": "96582a1d-e01b-481a-acb9-49a7de9cfbd5",
   "metadata": {},
   "outputs": [],
   "source": [
    "study_hours = [4.5,3.5, 15.8, 7.2, 22.1, 35.4, 9.6, 50.7, 60.3, 73.9, 82.2, \n",
    "    100.1, 45.0, 12.3, 18.5, 51.2, 67.4, 24.8, 88.9, 44.7, 99.6,\n",
    "    20.4, 71.1, 29.3, 10.0, 27.2, 36.5, 17.9, 39.8, 41.0, 80.4,\n",
    "    55.6, 62.7, 30.3, 90.2, 33.9\n",
    "]"
   ]
  },
  {
   "cell_type": "code",
   "execution_count": 40,
   "id": "3096307b-65e2-4570-87cf-1f94195eb2ee",
   "metadata": {},
   "outputs": [
    {
     "data": {
      "text/plain": [
       "list"
      ]
     },
     "execution_count": 40,
     "metadata": {},
     "output_type": "execute_result"
    }
   ],
   "source": [
    "type(study_hours)"
   ]
  },
  {
   "cell_type": "code",
   "execution_count": 42,
   "id": "879829bb-1000-4fde-89bd-1ceb695644b7",
   "metadata": {},
   "outputs": [],
   "source": [
    "student_data= np.array([study_hours,grades])"
   ]
  },
  {
   "cell_type": "code",
   "execution_count": 44,
   "id": "73e56cf7-48c7-46d6-8622-83a3f7f1e5cf",
   "metadata": {},
   "outputs": [
    {
     "data": {
      "text/plain": [
       "array([[  4.5,   3.5,  15.8,   7.2,  22.1,  35.4,   9.6,  50.7,  60.3,\n",
       "         73.9,  82.2, 100.1,  45. ,  12.3,  18.5,  51.2,  67.4,  24.8,\n",
       "         88.9,  44.7,  99.6,  20.4,  71.1,  29.3,  10. ,  27.2,  36.5,\n",
       "         17.9,  39.8,  41. ,  80.4,  55.6,  62.7,  30.3,  90.2,  33.9],\n",
       "       [ 52. ,  99. ,  53. ,  64. ,  10. ,  87. ,  33. ,   5. ,  77. ,\n",
       "         35. ,  27. ,  84. ,  17. ,   9. ,  39. ,  44. ,  26. ,  70. ,\n",
       "         40. ,  11. ,  68. ,  60. ,  59. ,  41. ,  52. ,  50. ,  23. ,\n",
       "         56. ,  78. ,   1. ,   4. ,  36. ,   8. ,  30. ,  46. ,  74. ]])"
      ]
     },
     "execution_count": 44,
     "metadata": {},
     "output_type": "execute_result"
    }
   ],
   "source": [
    "student_data"
   ]
  },
  {
   "cell_type": "code",
   "execution_count": 52,
   "id": "03d2556a-ccc3-4e88-8796-3d0643d268fa",
   "metadata": {},
   "outputs": [],
   "source": [
    "import pandas as pd\n",
    "\n"
   ]
  },
  {
   "cell_type": "code",
   "execution_count": 58,
   "id": "8adb0219-8213-49c0-b84d-464b9df75cc3",
   "metadata": {},
   "outputs": [],
   "source": [
    "\n",
    "students_details =pd.DataFrame({\"Names\": [\"Alice\", \"Bob\", \"Charlie\", \"David\", \"Eve\", \"Frank\", \"Grace\", \"Hannah\", \"Isaac\", \"Jack\",\"Kathy\", \"Leo\", \"Mona\", \"Nathan\", \"Olivia\", \"Paul\", \"Quincy\", \"Rachel\", \"Sam\", \"Tina\",\n",
    "    \"Uma\", \"Vera\", \"Walter\", \"Xander\", \"Zane\", \"Ava\", \"Blake\", \"Cathy\", \"Derek\", \"Emma\",    \"Felix\", \"Gina\", \"Holly\", \"Ivy\", \"James\", \"Kelly\"],\n",
    "                               \"study_hour\":student_data[0], \"Grades\":student_data[1]})\n",
    "                  "
   ]
  },
  {
   "cell_type": "code",
   "execution_count": 136,
   "id": "1d45d67e-546d-4e49-a134-c41c8c059366",
   "metadata": {},
   "outputs": [
    {
     "data": {
      "text/html": [
       "<div>\n",
       "<style scoped>\n",
       "    .dataframe tbody tr th:only-of-type {\n",
       "        vertical-align: middle;\n",
       "    }\n",
       "\n",
       "    .dataframe tbody tr th {\n",
       "        vertical-align: top;\n",
       "    }\n",
       "\n",
       "    .dataframe thead th {\n",
       "        text-align: right;\n",
       "    }\n",
       "</style>\n",
       "<table border=\"1\" class=\"dataframe\">\n",
       "  <thead>\n",
       "    <tr style=\"text-align: right;\">\n",
       "      <th></th>\n",
       "      <th>Names</th>\n",
       "      <th>study_hour</th>\n",
       "      <th>Grades</th>\n",
       "    </tr>\n",
       "  </thead>\n",
       "  <tbody>\n",
       "    <tr>\n",
       "      <th>0</th>\n",
       "      <td>Alice</td>\n",
       "      <td>4.5</td>\n",
       "      <td>52.0</td>\n",
       "    </tr>\n",
       "    <tr>\n",
       "      <th>1</th>\n",
       "      <td>Bob</td>\n",
       "      <td>3.5</td>\n",
       "      <td>99.0</td>\n",
       "    </tr>\n",
       "    <tr>\n",
       "      <th>2</th>\n",
       "      <td>Charlie</td>\n",
       "      <td>15.8</td>\n",
       "      <td>53.0</td>\n",
       "    </tr>\n",
       "    <tr>\n",
       "      <th>3</th>\n",
       "      <td>David</td>\n",
       "      <td>7.2</td>\n",
       "      <td>64.0</td>\n",
       "    </tr>\n",
       "    <tr>\n",
       "      <th>4</th>\n",
       "      <td>Eve</td>\n",
       "      <td>22.1</td>\n",
       "      <td>10.0</td>\n",
       "    </tr>\n",
       "    <tr>\n",
       "      <th>5</th>\n",
       "      <td>Frank</td>\n",
       "      <td>35.4</td>\n",
       "      <td>87.0</td>\n",
       "    </tr>\n",
       "    <tr>\n",
       "      <th>6</th>\n",
       "      <td>Grace</td>\n",
       "      <td>9.6</td>\n",
       "      <td>33.0</td>\n",
       "    </tr>\n",
       "    <tr>\n",
       "      <th>7</th>\n",
       "      <td>Hannah</td>\n",
       "      <td>50.7</td>\n",
       "      <td>5.0</td>\n",
       "    </tr>\n",
       "    <tr>\n",
       "      <th>8</th>\n",
       "      <td>Isaac</td>\n",
       "      <td>60.3</td>\n",
       "      <td>77.0</td>\n",
       "    </tr>\n",
       "    <tr>\n",
       "      <th>9</th>\n",
       "      <td>Jack</td>\n",
       "      <td>73.9</td>\n",
       "      <td>35.0</td>\n",
       "    </tr>\n",
       "    <tr>\n",
       "      <th>10</th>\n",
       "      <td>Kathy</td>\n",
       "      <td>82.2</td>\n",
       "      <td>27.0</td>\n",
       "    </tr>\n",
       "    <tr>\n",
       "      <th>11</th>\n",
       "      <td>Leo</td>\n",
       "      <td>100.1</td>\n",
       "      <td>84.0</td>\n",
       "    </tr>\n",
       "    <tr>\n",
       "      <th>12</th>\n",
       "      <td>Mona</td>\n",
       "      <td>45.0</td>\n",
       "      <td>17.0</td>\n",
       "    </tr>\n",
       "    <tr>\n",
       "      <th>13</th>\n",
       "      <td>Nathan</td>\n",
       "      <td>12.3</td>\n",
       "      <td>9.0</td>\n",
       "    </tr>\n",
       "    <tr>\n",
       "      <th>14</th>\n",
       "      <td>Olivia</td>\n",
       "      <td>18.5</td>\n",
       "      <td>39.0</td>\n",
       "    </tr>\n",
       "    <tr>\n",
       "      <th>15</th>\n",
       "      <td>Paul</td>\n",
       "      <td>51.2</td>\n",
       "      <td>44.0</td>\n",
       "    </tr>\n",
       "    <tr>\n",
       "      <th>16</th>\n",
       "      <td>Quincy</td>\n",
       "      <td>67.4</td>\n",
       "      <td>26.0</td>\n",
       "    </tr>\n",
       "    <tr>\n",
       "      <th>17</th>\n",
       "      <td>Rachel</td>\n",
       "      <td>24.8</td>\n",
       "      <td>70.0</td>\n",
       "    </tr>\n",
       "    <tr>\n",
       "      <th>18</th>\n",
       "      <td>Sam</td>\n",
       "      <td>88.9</td>\n",
       "      <td>40.0</td>\n",
       "    </tr>\n",
       "    <tr>\n",
       "      <th>19</th>\n",
       "      <td>Tina</td>\n",
       "      <td>44.7</td>\n",
       "      <td>11.0</td>\n",
       "    </tr>\n",
       "    <tr>\n",
       "      <th>20</th>\n",
       "      <td>Uma</td>\n",
       "      <td>99.6</td>\n",
       "      <td>68.0</td>\n",
       "    </tr>\n",
       "    <tr>\n",
       "      <th>21</th>\n",
       "      <td>Vera</td>\n",
       "      <td>20.4</td>\n",
       "      <td>60.0</td>\n",
       "    </tr>\n",
       "    <tr>\n",
       "      <th>22</th>\n",
       "      <td>Walter</td>\n",
       "      <td>71.1</td>\n",
       "      <td>59.0</td>\n",
       "    </tr>\n",
       "    <tr>\n",
       "      <th>23</th>\n",
       "      <td>Xander</td>\n",
       "      <td>29.3</td>\n",
       "      <td>41.0</td>\n",
       "    </tr>\n",
       "    <tr>\n",
       "      <th>24</th>\n",
       "      <td>Zane</td>\n",
       "      <td>10.0</td>\n",
       "      <td>52.0</td>\n",
       "    </tr>\n",
       "    <tr>\n",
       "      <th>25</th>\n",
       "      <td>Ava</td>\n",
       "      <td>27.2</td>\n",
       "      <td>50.0</td>\n",
       "    </tr>\n",
       "    <tr>\n",
       "      <th>26</th>\n",
       "      <td>Blake</td>\n",
       "      <td>36.5</td>\n",
       "      <td>23.0</td>\n",
       "    </tr>\n",
       "    <tr>\n",
       "      <th>27</th>\n",
       "      <td>Cathy</td>\n",
       "      <td>17.9</td>\n",
       "      <td>56.0</td>\n",
       "    </tr>\n",
       "    <tr>\n",
       "      <th>28</th>\n",
       "      <td>Derek</td>\n",
       "      <td>39.8</td>\n",
       "      <td>78.0</td>\n",
       "    </tr>\n",
       "    <tr>\n",
       "      <th>29</th>\n",
       "      <td>Emma</td>\n",
       "      <td>41.0</td>\n",
       "      <td>1.0</td>\n",
       "    </tr>\n",
       "    <tr>\n",
       "      <th>30</th>\n",
       "      <td>Felix</td>\n",
       "      <td>80.4</td>\n",
       "      <td>4.0</td>\n",
       "    </tr>\n",
       "    <tr>\n",
       "      <th>31</th>\n",
       "      <td>Gina</td>\n",
       "      <td>55.6</td>\n",
       "      <td>36.0</td>\n",
       "    </tr>\n",
       "    <tr>\n",
       "      <th>32</th>\n",
       "      <td>Holly</td>\n",
       "      <td>62.7</td>\n",
       "      <td>8.0</td>\n",
       "    </tr>\n",
       "    <tr>\n",
       "      <th>33</th>\n",
       "      <td>Ivy</td>\n",
       "      <td>30.3</td>\n",
       "      <td>30.0</td>\n",
       "    </tr>\n",
       "    <tr>\n",
       "      <th>34</th>\n",
       "      <td>James</td>\n",
       "      <td>90.2</td>\n",
       "      <td>46.0</td>\n",
       "    </tr>\n",
       "    <tr>\n",
       "      <th>35</th>\n",
       "      <td>Kelly</td>\n",
       "      <td>33.9</td>\n",
       "      <td>74.0</td>\n",
       "    </tr>\n",
       "  </tbody>\n",
       "</table>\n",
       "</div>"
      ],
      "text/plain": [
       "      Names  study_hour  Grades\n",
       "0     Alice         4.5    52.0\n",
       "1       Bob         3.5    99.0\n",
       "2   Charlie        15.8    53.0\n",
       "3     David         7.2    64.0\n",
       "4       Eve        22.1    10.0\n",
       "5     Frank        35.4    87.0\n",
       "6     Grace         9.6    33.0\n",
       "7    Hannah        50.7     5.0\n",
       "8     Isaac        60.3    77.0\n",
       "9      Jack        73.9    35.0\n",
       "10    Kathy        82.2    27.0\n",
       "11      Leo       100.1    84.0\n",
       "12     Mona        45.0    17.0\n",
       "13   Nathan        12.3     9.0\n",
       "14   Olivia        18.5    39.0\n",
       "15     Paul        51.2    44.0\n",
       "16   Quincy        67.4    26.0\n",
       "17   Rachel        24.8    70.0\n",
       "18      Sam        88.9    40.0\n",
       "19     Tina        44.7    11.0\n",
       "20      Uma        99.6    68.0\n",
       "21     Vera        20.4    60.0\n",
       "22   Walter        71.1    59.0\n",
       "23   Xander        29.3    41.0\n",
       "24     Zane        10.0    52.0\n",
       "25      Ava        27.2    50.0\n",
       "26    Blake        36.5    23.0\n",
       "27    Cathy        17.9    56.0\n",
       "28    Derek        39.8    78.0\n",
       "29     Emma        41.0     1.0\n",
       "30    Felix        80.4     4.0\n",
       "31     Gina        55.6    36.0\n",
       "32    Holly        62.7     8.0\n",
       "33      Ivy        30.3    30.0\n",
       "34    James        90.2    46.0\n",
       "35    Kelly        33.9    74.0"
      ]
     },
     "execution_count": 136,
     "metadata": {},
     "output_type": "execute_result"
    }
   ],
   "source": [
    "students_details"
   ]
  },
  {
   "cell_type": "code",
   "execution_count": null,
   "id": "a7474db8-cec0-4e3f-ace6-8cbd08fa88e5",
   "metadata": {},
   "outputs": [],
   "source": [
    "Day 2\n",
    "Implement the following:- \n",
    " loc, \n",
    "iloc, \n",
    "explicit method of filtering\n",
    "Implicit method filtering\n",
    "Query method\n"
   ]
  },
  {
   "cell_type": "code",
   "execution_count": 60,
   "id": "cf271ea7-5679-447c-8ddd-eddffa350c68",
   "metadata": {},
   "outputs": [
    {
     "data": {
      "text/html": [
       "<div>\n",
       "<style scoped>\n",
       "    .dataframe tbody tr th:only-of-type {\n",
       "        vertical-align: middle;\n",
       "    }\n",
       "\n",
       "    .dataframe tbody tr th {\n",
       "        vertical-align: top;\n",
       "    }\n",
       "\n",
       "    .dataframe thead th {\n",
       "        text-align: right;\n",
       "    }\n",
       "</style>\n",
       "<table border=\"1\" class=\"dataframe\">\n",
       "  <thead>\n",
       "    <tr style=\"text-align: right;\">\n",
       "      <th></th>\n",
       "      <th>Names</th>\n",
       "      <th>study_hour</th>\n",
       "      <th>Grades</th>\n",
       "    </tr>\n",
       "  </thead>\n",
       "  <tbody>\n",
       "    <tr>\n",
       "      <th>0</th>\n",
       "      <td>Alice</td>\n",
       "      <td>4.5</td>\n",
       "      <td>52.0</td>\n",
       "    </tr>\n",
       "    <tr>\n",
       "      <th>1</th>\n",
       "      <td>Bob</td>\n",
       "      <td>3.5</td>\n",
       "      <td>99.0</td>\n",
       "    </tr>\n",
       "    <tr>\n",
       "      <th>2</th>\n",
       "      <td>Charlie</td>\n",
       "      <td>15.8</td>\n",
       "      <td>53.0</td>\n",
       "    </tr>\n",
       "    <tr>\n",
       "      <th>3</th>\n",
       "      <td>David</td>\n",
       "      <td>7.2</td>\n",
       "      <td>64.0</td>\n",
       "    </tr>\n",
       "    <tr>\n",
       "      <th>4</th>\n",
       "      <td>Eve</td>\n",
       "      <td>22.1</td>\n",
       "      <td>10.0</td>\n",
       "    </tr>\n",
       "    <tr>\n",
       "      <th>5</th>\n",
       "      <td>Frank</td>\n",
       "      <td>35.4</td>\n",
       "      <td>87.0</td>\n",
       "    </tr>\n",
       "    <tr>\n",
       "      <th>6</th>\n",
       "      <td>Grace</td>\n",
       "      <td>9.6</td>\n",
       "      <td>33.0</td>\n",
       "    </tr>\n",
       "  </tbody>\n",
       "</table>\n",
       "</div>"
      ],
      "text/plain": [
       "     Names  study_hour  Grades\n",
       "0    Alice         4.5    52.0\n",
       "1      Bob         3.5    99.0\n",
       "2  Charlie        15.8    53.0\n",
       "3    David         7.2    64.0\n",
       "4      Eve        22.1    10.0\n",
       "5    Frank        35.4    87.0\n",
       "6    Grace         9.6    33.0"
      ]
     },
     "execution_count": 60,
     "metadata": {},
     "output_type": "execute_result"
    }
   ],
   "source": [
    "students_details.loc[0:6]"
   ]
  },
  {
   "cell_type": "code",
   "execution_count": 62,
   "id": "32279b50-e980-49a4-b726-12d8a21b3179",
   "metadata": {},
   "outputs": [
    {
     "data": {
      "text/html": [
       "<div>\n",
       "<style scoped>\n",
       "    .dataframe tbody tr th:only-of-type {\n",
       "        vertical-align: middle;\n",
       "    }\n",
       "\n",
       "    .dataframe tbody tr th {\n",
       "        vertical-align: top;\n",
       "    }\n",
       "\n",
       "    .dataframe thead th {\n",
       "        text-align: right;\n",
       "    }\n",
       "</style>\n",
       "<table border=\"1\" class=\"dataframe\">\n",
       "  <thead>\n",
       "    <tr style=\"text-align: right;\">\n",
       "      <th></th>\n",
       "      <th>Names</th>\n",
       "      <th>study_hour</th>\n",
       "      <th>Grades</th>\n",
       "    </tr>\n",
       "  </thead>\n",
       "  <tbody>\n",
       "    <tr>\n",
       "      <th>0</th>\n",
       "      <td>Alice</td>\n",
       "      <td>4.5</td>\n",
       "      <td>52.0</td>\n",
       "    </tr>\n",
       "    <tr>\n",
       "      <th>1</th>\n",
       "      <td>Bob</td>\n",
       "      <td>3.5</td>\n",
       "      <td>99.0</td>\n",
       "    </tr>\n",
       "    <tr>\n",
       "      <th>2</th>\n",
       "      <td>Charlie</td>\n",
       "      <td>15.8</td>\n",
       "      <td>53.0</td>\n",
       "    </tr>\n",
       "    <tr>\n",
       "      <th>3</th>\n",
       "      <td>David</td>\n",
       "      <td>7.2</td>\n",
       "      <td>64.0</td>\n",
       "    </tr>\n",
       "    <tr>\n",
       "      <th>4</th>\n",
       "      <td>Eve</td>\n",
       "      <td>22.1</td>\n",
       "      <td>10.0</td>\n",
       "    </tr>\n",
       "    <tr>\n",
       "      <th>5</th>\n",
       "      <td>Frank</td>\n",
       "      <td>35.4</td>\n",
       "      <td>87.0</td>\n",
       "    </tr>\n",
       "  </tbody>\n",
       "</table>\n",
       "</div>"
      ],
      "text/plain": [
       "     Names  study_hour  Grades\n",
       "0    Alice         4.5    52.0\n",
       "1      Bob         3.5    99.0\n",
       "2  Charlie        15.8    53.0\n",
       "3    David         7.2    64.0\n",
       "4      Eve        22.1    10.0\n",
       "5    Frank        35.4    87.0"
      ]
     },
     "execution_count": 62,
     "metadata": {},
     "output_type": "execute_result"
    }
   ],
   "source": [
    "students_details.iloc[0:6]"
   ]
  },
  {
   "cell_type": "code",
   "execution_count": 68,
   "id": "1cd315d3-3510-470c-84f8-1fa3d3f91f54",
   "metadata": {},
   "outputs": [
    {
     "data": {
      "text/html": [
       "<div>\n",
       "<style scoped>\n",
       "    .dataframe tbody tr th:only-of-type {\n",
       "        vertical-align: middle;\n",
       "    }\n",
       "\n",
       "    .dataframe tbody tr th {\n",
       "        vertical-align: top;\n",
       "    }\n",
       "\n",
       "    .dataframe thead th {\n",
       "        text-align: right;\n",
       "    }\n",
       "</style>\n",
       "<table border=\"1\" class=\"dataframe\">\n",
       "  <thead>\n",
       "    <tr style=\"text-align: right;\">\n",
       "      <th></th>\n",
       "      <th>study_hour</th>\n",
       "      <th>Grades</th>\n",
       "    </tr>\n",
       "  </thead>\n",
       "  <tbody>\n",
       "    <tr>\n",
       "      <th>0</th>\n",
       "      <td>4.5</td>\n",
       "      <td>52.0</td>\n",
       "    </tr>\n",
       "    <tr>\n",
       "      <th>1</th>\n",
       "      <td>3.5</td>\n",
       "      <td>99.0</td>\n",
       "    </tr>\n",
       "    <tr>\n",
       "      <th>2</th>\n",
       "      <td>15.8</td>\n",
       "      <td>53.0</td>\n",
       "    </tr>\n",
       "    <tr>\n",
       "      <th>3</th>\n",
       "      <td>7.2</td>\n",
       "      <td>64.0</td>\n",
       "    </tr>\n",
       "    <tr>\n",
       "      <th>4</th>\n",
       "      <td>22.1</td>\n",
       "      <td>10.0</td>\n",
       "    </tr>\n",
       "    <tr>\n",
       "      <th>5</th>\n",
       "      <td>35.4</td>\n",
       "      <td>87.0</td>\n",
       "    </tr>\n",
       "  </tbody>\n",
       "</table>\n",
       "</div>"
      ],
      "text/plain": [
       "   study_hour  Grades\n",
       "0         4.5    52.0\n",
       "1         3.5    99.0\n",
       "2        15.8    53.0\n",
       "3         7.2    64.0\n",
       "4        22.1    10.0\n",
       "5        35.4    87.0"
      ]
     },
     "execution_count": 68,
     "metadata": {},
     "output_type": "execute_result"
    }
   ],
   "source": [
    "students_details.iloc[0:6,[1,2]]# slicing can be done by iloc function"
   ]
  },
  {
   "cell_type": "code",
   "execution_count": 76,
   "id": "04b6de5c-8900-4f59-bad6-af5e56b9fa67",
   "metadata": {},
   "outputs": [
    {
     "data": {
      "text/html": [
       "<div>\n",
       "<style scoped>\n",
       "    .dataframe tbody tr th:only-of-type {\n",
       "        vertical-align: middle;\n",
       "    }\n",
       "\n",
       "    .dataframe tbody tr th {\n",
       "        vertical-align: top;\n",
       "    }\n",
       "\n",
       "    .dataframe thead th {\n",
       "        text-align: right;\n",
       "    }\n",
       "</style>\n",
       "<table border=\"1\" class=\"dataframe\">\n",
       "  <thead>\n",
       "    <tr style=\"text-align: right;\">\n",
       "      <th></th>\n",
       "      <th>Names</th>\n",
       "      <th>study_hour</th>\n",
       "      <th>Grades</th>\n",
       "    </tr>\n",
       "  </thead>\n",
       "  <tbody>\n",
       "    <tr>\n",
       "      <th>11</th>\n",
       "      <td>Leo</td>\n",
       "      <td>100.1</td>\n",
       "      <td>84.0</td>\n",
       "    </tr>\n",
       "    <tr>\n",
       "      <th>20</th>\n",
       "      <td>Uma</td>\n",
       "      <td>99.6</td>\n",
       "      <td>68.0</td>\n",
       "    </tr>\n",
       "    <tr>\n",
       "      <th>34</th>\n",
       "      <td>James</td>\n",
       "      <td>90.2</td>\n",
       "      <td>46.0</td>\n",
       "    </tr>\n",
       "  </tbody>\n",
       "</table>\n",
       "</div>"
      ],
      "text/plain": [
       "    Names  study_hour  Grades\n",
       "11    Leo       100.1    84.0\n",
       "20    Uma        99.6    68.0\n",
       "34  James        90.2    46.0"
      ]
     },
     "execution_count": 76,
     "metadata": {},
     "output_type": "execute_result"
    }
   ],
   "source": [
    "#explicit method of filtering\n",
    "students_details.loc[students_details[\"study_hour\"]>90]"
   ]
  },
  {
   "cell_type": "code",
   "execution_count": 82,
   "id": "efd0ff71-5fae-49e3-af02-d1db5743f261",
   "metadata": {},
   "outputs": [
    {
     "data": {
      "text/html": [
       "<div>\n",
       "<style scoped>\n",
       "    .dataframe tbody tr th:only-of-type {\n",
       "        vertical-align: middle;\n",
       "    }\n",
       "\n",
       "    .dataframe tbody tr th {\n",
       "        vertical-align: top;\n",
       "    }\n",
       "\n",
       "    .dataframe thead th {\n",
       "        text-align: right;\n",
       "    }\n",
       "</style>\n",
       "<table border=\"1\" class=\"dataframe\">\n",
       "  <thead>\n",
       "    <tr style=\"text-align: right;\">\n",
       "      <th></th>\n",
       "      <th>Names</th>\n",
       "      <th>study_hour</th>\n",
       "      <th>Grades</th>\n",
       "    </tr>\n",
       "  </thead>\n",
       "  <tbody>\n",
       "    <tr>\n",
       "      <th>29</th>\n",
       "      <td>Emma</td>\n",
       "      <td>41.0</td>\n",
       "      <td>1.0</td>\n",
       "    </tr>\n",
       "  </tbody>\n",
       "</table>\n",
       "</div>"
      ],
      "text/plain": [
       "   Names  study_hour  Grades\n",
       "29  Emma        41.0     1.0"
      ]
     },
     "execution_count": 82,
     "metadata": {},
     "output_type": "execute_result"
    }
   ],
   "source": [
    "students_details.loc[students_details[\"Names\"]==\"Emma\"]"
   ]
  },
  {
   "cell_type": "code",
   "execution_count": 84,
   "id": "0796cffe-cb35-4df3-93ab-26cb7ce90952",
   "metadata": {},
   "outputs": [
    {
     "data": {
      "text/html": [
       "<div>\n",
       "<style scoped>\n",
       "    .dataframe tbody tr th:only-of-type {\n",
       "        vertical-align: middle;\n",
       "    }\n",
       "\n",
       "    .dataframe tbody tr th {\n",
       "        vertical-align: top;\n",
       "    }\n",
       "\n",
       "    .dataframe thead th {\n",
       "        text-align: right;\n",
       "    }\n",
       "</style>\n",
       "<table border=\"1\" class=\"dataframe\">\n",
       "  <thead>\n",
       "    <tr style=\"text-align: right;\">\n",
       "      <th></th>\n",
       "      <th>Names</th>\n",
       "      <th>study_hour</th>\n",
       "      <th>Grades</th>\n",
       "    </tr>\n",
       "  </thead>\n",
       "  <tbody>\n",
       "    <tr>\n",
       "      <th>29</th>\n",
       "      <td>Emma</td>\n",
       "      <td>41.0</td>\n",
       "      <td>1.0</td>\n",
       "    </tr>\n",
       "  </tbody>\n",
       "</table>\n",
       "</div>"
      ],
      "text/plain": [
       "   Names  study_hour  Grades\n",
       "29  Emma        41.0     1.0"
      ]
     },
     "execution_count": 84,
     "metadata": {},
     "output_type": "execute_result"
    }
   ],
   "source": [
    "#Implicit method filtering\n",
    "students_details[students_details[\"Names\"]==\"Emma\"]"
   ]
  },
  {
   "cell_type": "code",
   "execution_count": 88,
   "id": "1e95a0e9-e10f-4478-bb82-c5a57e85c58c",
   "metadata": {},
   "outputs": [
    {
     "data": {
      "text/html": [
       "<div>\n",
       "<style scoped>\n",
       "    .dataframe tbody tr th:only-of-type {\n",
       "        vertical-align: middle;\n",
       "    }\n",
       "\n",
       "    .dataframe tbody tr th {\n",
       "        vertical-align: top;\n",
       "    }\n",
       "\n",
       "    .dataframe thead th {\n",
       "        text-align: right;\n",
       "    }\n",
       "</style>\n",
       "<table border=\"1\" class=\"dataframe\">\n",
       "  <thead>\n",
       "    <tr style=\"text-align: right;\">\n",
       "      <th></th>\n",
       "      <th>Names</th>\n",
       "      <th>study_hour</th>\n",
       "      <th>Grades</th>\n",
       "    </tr>\n",
       "  </thead>\n",
       "  <tbody>\n",
       "    <tr>\n",
       "      <th>1</th>\n",
       "      <td>Bob</td>\n",
       "      <td>3.5</td>\n",
       "      <td>99.0</td>\n",
       "    </tr>\n",
       "    <tr>\n",
       "      <th>5</th>\n",
       "      <td>Frank</td>\n",
       "      <td>35.4</td>\n",
       "      <td>87.0</td>\n",
       "    </tr>\n",
       "    <tr>\n",
       "      <th>11</th>\n",
       "      <td>Leo</td>\n",
       "      <td>100.1</td>\n",
       "      <td>84.0</td>\n",
       "    </tr>\n",
       "  </tbody>\n",
       "</table>\n",
       "</div>"
      ],
      "text/plain": [
       "    Names  study_hour  Grades\n",
       "1     Bob         3.5    99.0\n",
       "5   Frank        35.4    87.0\n",
       "11    Leo       100.1    84.0"
      ]
     },
     "execution_count": 88,
     "metadata": {},
     "output_type": "execute_result"
    }
   ],
   "source": [
    "students_details.loc[students_details[\"Grades\"]>80]"
   ]
  },
  {
   "cell_type": "code",
   "execution_count": null,
   "id": "1662bd1d-2c08-42c4-891a-3d30a0382cfb",
   "metadata": {},
   "outputs": [],
   "source": []
  }
 ],
 "metadata": {
  "kernelspec": {
   "display_name": "Python 3 (ipykernel)",
   "language": "python",
   "name": "python3"
  },
  "language_info": {
   "codemirror_mode": {
    "name": "ipython",
    "version": 3
   },
   "file_extension": ".py",
   "mimetype": "text/x-python",
   "name": "python",
   "nbconvert_exporter": "python",
   "pygments_lexer": "ipython3",
   "version": "3.12.4"
  }
 },
 "nbformat": 4,
 "nbformat_minor": 5
}
