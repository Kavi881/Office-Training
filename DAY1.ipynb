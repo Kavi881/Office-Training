{
 "cells": [
  {
   "cell_type": "markdown",
   "id": "6cbf1dda-4710-4f7e-9d21-343eb3d9c709",
   "metadata": {},
   "source": [
    "Creating a dummy data of 34 data items or more\n",
    "explore the data: type. shape, mathematical operations\n",
    "Convert your dummy data into an array.\n",
    "type. shape, mathematical operation"
   ]
  },
  {
   "cell_type": "code",
   "execution_count": 11,
   "id": "ea66e8c0-8034-4413-a7ab-b900b4fa9341",
   "metadata": {},
   "outputs": [],
   "source": [
    "data=[52,99, 53, 64, 10, 87, 33, 5, 77, 35, 27, 84, 17, 9, 39, 44, 26, 70, 40, 11, 68, 60, 59, 41, 52, 50, 23, 56, 78, 1, 4, 36, 8, 30, 46, 74]"
   ]
  },
  {
   "cell_type": "code",
   "execution_count": 15,
   "id": "50e936a3-1bdd-4014-bfbd-769c2fa311ba",
   "metadata": {},
   "outputs": [
    {
     "data": {
      "text/plain": [
       "list"
      ]
     },
     "execution_count": 15,
     "metadata": {},
     "output_type": "execute_result"
    }
   ],
   "source": [
    "type(data)"
   ]
  },
  {
   "cell_type": "code",
   "execution_count": 18,
   "id": "fc83c74b-a4c2-4dbc-be92-a7edb02ed553",
   "metadata": {},
   "outputs": [
    {
     "name": "stdout",
     "output_type": "stream",
     "text": [
      "<class 'list'>\n"
     ]
    }
   ],
   "source": [
    "print(type(data))"
   ]
  },
  {
   "cell_type": "code",
   "execution_count": 20,
   "id": "f7da2822-0eb6-4322-8224-310174a5fd9d",
   "metadata": {},
   "outputs": [
    {
     "ename": "AttributeError",
     "evalue": "'list' object has no attribute 'shape'",
     "output_type": "error",
     "traceback": [
      "\u001b[1;31m---------------------------------------------------------------------------\u001b[0m",
      "\u001b[1;31mAttributeError\u001b[0m                            Traceback (most recent call last)",
      "Cell \u001b[1;32mIn[20], line 1\u001b[0m\n\u001b[1;32m----> 1\u001b[0m data\u001b[38;5;241m.\u001b[39mshape()\n",
      "\u001b[1;31mAttributeError\u001b[0m: 'list' object has no attribute 'shape'"
     ]
    }
   ],
   "source": [
    "data.shape()"
   ]
  },
  {
   "cell_type": "code",
   "execution_count": 54,
   "id": "e2005796-de2a-4224-af90-b055b348f9e9",
   "metadata": {},
   "outputs": [
    {
     "ename": "TypeError",
     "evalue": "can only concatenate list (not \"int\") to list",
     "output_type": "error",
     "traceback": [
      "\u001b[1;31m---------------------------------------------------------------------------\u001b[0m",
      "\u001b[1;31mTypeError\u001b[0m                                 Traceback (most recent call last)",
      "Cell \u001b[1;32mIn[54], line 1\u001b[0m\n\u001b[1;32m----> 1\u001b[0m data\u001b[38;5;241m+\u001b[39m\u001b[38;5;241m2\u001b[39m\n",
      "\u001b[1;31mTypeError\u001b[0m: can only concatenate list (not \"int\") to list"
     ]
    }
   ],
   "source": [
    "data+2"
   ]
  },
  {
   "cell_type": "code",
   "execution_count": 48,
   "id": "36a13722-ed1d-4930-9707-7f210a3f0b9f",
   "metadata": {},
   "outputs": [
    {
     "data": {
      "text/plain": [
       "[52,\n",
       " 99,\n",
       " 53,\n",
       " 64,\n",
       " 10,\n",
       " 87,\n",
       " 33,\n",
       " 5,\n",
       " 77,\n",
       " 35,\n",
       " 27,\n",
       " 84,\n",
       " 17,\n",
       " 9,\n",
       " 39,\n",
       " 44,\n",
       " 26,\n",
       " 70,\n",
       " 40,\n",
       " 11,\n",
       " 68,\n",
       " 60,\n",
       " 59,\n",
       " 41,\n",
       " 52,\n",
       " 50,\n",
       " 23,\n",
       " 56,\n",
       " 78,\n",
       " 1,\n",
       " 4,\n",
       " 36,\n",
       " 8,\n",
       " 30,\n",
       " 46,\n",
       " 74,\n",
       " 52,\n",
       " 99,\n",
       " 53,\n",
       " 64,\n",
       " 10,\n",
       " 87,\n",
       " 33,\n",
       " 5,\n",
       " 77,\n",
       " 35,\n",
       " 27,\n",
       " 84,\n",
       " 17,\n",
       " 9,\n",
       " 39,\n",
       " 44,\n",
       " 26,\n",
       " 70,\n",
       " 40,\n",
       " 11,\n",
       " 68,\n",
       " 60,\n",
       " 59,\n",
       " 41,\n",
       " 52,\n",
       " 50,\n",
       " 23,\n",
       " 56,\n",
       " 78,\n",
       " 1,\n",
       " 4,\n",
       " 36,\n",
       " 8,\n",
       " 30,\n",
       " 46,\n",
       " 74]"
      ]
     },
     "execution_count": 48,
     "metadata": {},
     "output_type": "execute_result"
    }
   ],
   "source": [
    "data*2"
   ]
  },
  {
   "cell_type": "code",
   "execution_count": 26,
   "id": "73e0542c-3155-4c83-af7a-a54bd948ae9d",
   "metadata": {},
   "outputs": [],
   "source": [
    "import numpy as np"
   ]
  },
  {
   "cell_type": "code",
   "execution_count": 50,
   "id": "c242fbdf-13a2-4817-b5d2-faa6d58a169e",
   "metadata": {},
   "outputs": [],
   "source": [
    "grades=np.array(data)"
   ]
  },
  {
   "cell_type": "code",
   "execution_count": 52,
   "id": "54831d53-5620-494c-92b4-8cbf5e20ef59",
   "metadata": {},
   "outputs": [
    {
     "data": {
      "text/plain": [
       "array([52, 99, 53, 64, 10, 87, 33,  5, 77, 35, 27, 84, 17,  9, 39, 44, 26,\n",
       "       70, 40, 11, 68, 60, 59, 41, 52, 50, 23, 56, 78,  1,  4, 36,  8, 30,\n",
       "       46, 74])"
      ]
     },
     "execution_count": 52,
     "metadata": {},
     "output_type": "execute_result"
    }
   ],
   "source": [
    "grades"
   ]
  },
  {
   "cell_type": "code",
   "execution_count": 32,
   "id": "f719cb8b-3bb6-449c-85e1-d9979d746db8",
   "metadata": {},
   "outputs": [
    {
     "data": {
      "text/plain": [
       "numpy.ndarray"
      ]
     },
     "execution_count": 32,
     "metadata": {},
     "output_type": "execute_result"
    }
   ],
   "source": [
    "type(grades)"
   ]
  },
  {
   "cell_type": "code",
   "execution_count": 34,
   "id": "29b02f69-d1a7-4011-881d-005aadda34fc",
   "metadata": {},
   "outputs": [
    {
     "name": "stdout",
     "output_type": "stream",
     "text": [
      "<class 'numpy.ndarray'>\n"
     ]
    }
   ],
   "source": [
    "print(type(grades))"
   ]
  },
  {
   "cell_type": "code",
   "execution_count": 42,
   "id": "45638037-a8cc-4a17-9c9e-9e1847fa145f",
   "metadata": {},
   "outputs": [
    {
     "data": {
      "text/plain": [
       "(36,)"
      ]
     },
     "execution_count": 42,
     "metadata": {},
     "output_type": "execute_result"
    }
   ],
   "source": [
    "grades.shape"
   ]
  },
  {
   "cell_type": "code",
   "execution_count": 44,
   "id": "2b938423-96c6-4c76-82cb-872e620a256c",
   "metadata": {},
   "outputs": [
    {
     "data": {
      "text/plain": [
       "array([104, 198, 106, 128,  20, 174,  66,  10, 154,  70,  54, 168,  34,\n",
       "        18,  78,  88,  52, 140,  80,  22, 136, 120, 118,  82, 104, 100,\n",
       "        46, 112, 156,   2,   8,  72,  16,  60,  92, 148])"
      ]
     },
     "execution_count": 44,
     "metadata": {},
     "output_type": "execute_result"
    }
   ],
   "source": [
    "grades*2"
   ]
  },
  {
   "cell_type": "code",
   "execution_count": 46,
   "id": "12863e84-f0b7-45a1-9c6b-7a27ce118d3e",
   "metadata": {},
   "outputs": [
    {
     "data": {
      "text/plain": [
       "array([ 54, 101,  55,  66,  12,  89,  35,   7,  79,  37,  29,  86,  19,\n",
       "        11,  41,  46,  28,  72,  42,  13,  70,  62,  61,  43,  54,  52,\n",
       "        25,  58,  80,   3,   6,  38,  10,  32,  48,  76])"
      ]
     },
     "execution_count": 46,
     "metadata": {},
     "output_type": "execute_result"
    }
   ],
   "source": [
    "grades+2"
   ]
  },
  {
   "cell_type": "code",
   "execution_count": 56,
   "id": "bf725115-0ae0-4d57-968b-638d905cac12",
   "metadata": {},
   "outputs": [
    {
     "data": {
      "text/plain": [
       "43.55555555555556"
      ]
     },
     "execution_count": 56,
     "metadata": {},
     "output_type": "execute_result"
    }
   ],
   "source": [
    "grades.mean()"
   ]
  },
  {
   "cell_type": "code",
   "execution_count": null,
   "id": "e9bbf5dc-5775-4bdf-9c09-d9ee2b0240bb",
   "metadata": {},
   "outputs": [],
   "source": []
  },
  {
   "cell_type": "code",
   "execution_count": null,
   "id": "7d1731e5-c4b4-4382-b514-dc773295d057",
   "metadata": {},
   "outputs": [],
   "source": []
  },
  {
   "cell_type": "markdown",
   "id": "14c41535-1669-46e4-8701-27e08c5223eb",
   "metadata": {},
   "source": [
    "random number egenrator\n",
    " \n",
    "normal disticbuted or unofrm distributed data\n",
    " \n",
    "rand, randn and randi numbers\n",
    " \n",
    "rand()\n",
    "randn()\n",
    "randi()\n",
    " "
   ]
  },
  {
   "cell_type": "code",
   "execution_count": 63,
   "id": "96582a1d-e01b-481a-acb9-49a7de9cfbd5",
   "metadata": {},
   "outputs": [],
   "source": [
    "study_hours = [4.5,3.5, 15.8, 7.2, 22.1, 35.4, 9.6, 50.7, 60.3, 73.9, 82.2, \n",
    "    100.1, 45.0, 12.3, 18.5, 51.2, 67.4, 24.8, 88.9, 44.7, 99.6,\n",
    "    20.4, 71.1, 29.3, 10.0, 27.2, 36.5, 17.9, 39.8, 41.0, 80.4,\n",
    "    55.6, 62.7, 30.3, 90.2, 33.9\n",
    "]"
   ]
  },
  {
   "cell_type": "code",
   "execution_count": 65,
   "id": "3096307b-65e2-4570-87cf-1f94195eb2ee",
   "metadata": {},
   "outputs": [
    {
     "data": {
      "text/plain": [
       "list"
      ]
     },
     "execution_count": 65,
     "metadata": {},
     "output_type": "execute_result"
    }
   ],
   "source": [
    "type(study_hours)"
   ]
  },
  {
   "cell_type": "code",
   "execution_count": 69,
   "id": "879829bb-1000-4fde-89bd-1ceb695644b7",
   "metadata": {},
   "outputs": [],
   "source": [
    "student_data= np.array([study_hours,grades])"
   ]
  },
  {
   "cell_type": "code",
   "execution_count": 71,
   "id": "73e56cf7-48c7-46d6-8622-83a3f7f1e5cf",
   "metadata": {},
   "outputs": [
    {
     "data": {
      "text/plain": [
       "array([[  4.5,   3.5,  15.8,   7.2,  22.1,  35.4,   9.6,  50.7,  60.3,\n",
       "         73.9,  82.2, 100.1,  45. ,  12.3,  18.5,  51.2,  67.4,  24.8,\n",
       "         88.9,  44.7,  99.6,  20.4,  71.1,  29.3,  10. ,  27.2,  36.5,\n",
       "         17.9,  39.8,  41. ,  80.4,  55.6,  62.7,  30.3,  90.2,  33.9],\n",
       "       [ 52. ,  99. ,  53. ,  64. ,  10. ,  87. ,  33. ,   5. ,  77. ,\n",
       "         35. ,  27. ,  84. ,  17. ,   9. ,  39. ,  44. ,  26. ,  70. ,\n",
       "         40. ,  11. ,  68. ,  60. ,  59. ,  41. ,  52. ,  50. ,  23. ,\n",
       "         56. ,  78. ,   1. ,   4. ,  36. ,   8. ,  30. ,  46. ,  74. ]])"
      ]
     },
     "execution_count": 71,
     "metadata": {},
     "output_type": "execute_result"
    }
   ],
   "source": [
    "student_data"
   ]
  },
  {
   "cell_type": "code",
   "execution_count": 75,
   "id": "64f4047b-14fa-4178-95da-9f94eec68ce8",
   "metadata": {},
   "outputs": [
    {
     "data": {
      "text/plain": [
       "numpy.ndarray"
      ]
     },
     "execution_count": 75,
     "metadata": {},
     "output_type": "execute_result"
    }
   ],
   "source": [
    "type(student_data)"
   ]
  },
  {
   "cell_type": "code",
   "execution_count": 82,
   "id": "49e1f7f9-2f3c-4434-8198-f8d1bcf54984",
   "metadata": {},
   "outputs": [
    {
     "data": {
      "text/plain": [
       "array([53., 64., 10., 87., 33.,  5., 77., 35., 27., 84., 17.,  9., 39.,\n",
       "       44., 26., 70., 40., 11.])"
      ]
     },
     "execution_count": 82,
     "metadata": {},
     "output_type": "execute_result"
    }
   ],
   "source": [
    "student_data[1][2:20]"
   ]
  },
  {
   "cell_type": "code",
   "execution_count": 102,
   "id": "2c529139-eb65-47a4-aedd-2fae282290c6",
   "metadata": {},
   "outputs": [
    {
     "name": "stdout",
     "output_type": "stream",
     "text": [
      "Average study hours: 43.44444444444445 \n",
      "Average study hours: 43.55555555555556\n"
     ]
    }
   ],
   "source": [
    "avg_hours = student_data[0].mean()\n",
    "avg_grades= student_data[1].mean()\n",
    "\n",
    "print('Average study hours:', avg_hours,'\\nAverage study hours:' ,avg_grades)\n",
    "\n"
   ]
  },
  {
   "cell_type": "code",
   "execution_count": 112,
   "id": "03d2556a-ccc3-4e88-8796-3d0643d268fa",
   "metadata": {},
   "outputs": [],
   "source": [
    "import pandas as pd\n",
    "\n"
   ]
  },
  {
   "cell_type": "code",
   "execution_count": 118,
   "id": "6e926598-28e5-4e32-8771-d87a640977ed",
   "metadata": {},
   "outputs": [
    {
     "data": {
      "text/plain": [
       "numpy.ndarray"
      ]
     },
     "execution_count": 118,
     "metadata": {},
     "output_type": "execute_result"
    }
   ],
   "source": [
    "type(student_data)"
   ]
  },
  {
   "cell_type": "code",
   "execution_count": 120,
   "id": "14cf25a1-4be3-418c-b4d4-71705b86d6eb",
   "metadata": {},
   "outputs": [
    {
     "data": {
      "text/plain": [
       "(2, 36)"
      ]
     },
     "execution_count": 120,
     "metadata": {},
     "output_type": "execute_result"
    }
   ],
   "source": [
    "student_data.shape"
   ]
  },
  {
   "cell_type": "code",
   "execution_count": 146,
   "id": "8adb0219-8213-49c0-b84d-464b9df75cc3",
   "metadata": {},
   "outputs": [],
   "source": [
    "\n",
    "students_details =pd.DataFrame({\"Names\": [\"Alice\", \"Bob\", \"Charlie\", \"David\", \"Eve\", \"Frank\", \"Grace\", \"Hannah\", \"Isaac\", \"Jack\",\"Kathy\", \"Leo\", \"Mona\", \"Nathan\", \"Olivia\", \"Paul\", \"Quincy\", \"Rachel\", \"Sam\", \"Tina\",\n",
    "    \"Uma\", \"Vera\", \"Walter\", \"Xander\", \"Zane\", \"Ava\", \"Blake\", \"Cathy\", \"Derek\", \"Emma\",    \"Felix\", \"Gina\", \"Holly\", \"Ivy\", \"James\", \"Kelly\"],\n",
    "                               \"study_hour\":student_data[0], \"Grades\":student_data[1]})\n",
    "                  "
   ]
  },
  {
   "cell_type": "code",
   "execution_count": 136,
   "id": "1d45d67e-546d-4e49-a134-c41c8c059366",
   "metadata": {},
   "outputs": [
    {
     "data": {
      "text/html": [
       "<div>\n",
       "<style scoped>\n",
       "    .dataframe tbody tr th:only-of-type {\n",
       "        vertical-align: middle;\n",
       "    }\n",
       "\n",
       "    .dataframe tbody tr th {\n",
       "        vertical-align: top;\n",
       "    }\n",
       "\n",
       "    .dataframe thead th {\n",
       "        text-align: right;\n",
       "    }\n",
       "</style>\n",
       "<table border=\"1\" class=\"dataframe\">\n",
       "  <thead>\n",
       "    <tr style=\"text-align: right;\">\n",
       "      <th></th>\n",
       "      <th>Names</th>\n",
       "      <th>study_hour</th>\n",
       "      <th>Grades</th>\n",
       "    </tr>\n",
       "  </thead>\n",
       "  <tbody>\n",
       "    <tr>\n",
       "      <th>0</th>\n",
       "      <td>Alice</td>\n",
       "      <td>4.5</td>\n",
       "      <td>52.0</td>\n",
       "    </tr>\n",
       "    <tr>\n",
       "      <th>1</th>\n",
       "      <td>Bob</td>\n",
       "      <td>3.5</td>\n",
       "      <td>99.0</td>\n",
       "    </tr>\n",
       "    <tr>\n",
       "      <th>2</th>\n",
       "      <td>Charlie</td>\n",
       "      <td>15.8</td>\n",
       "      <td>53.0</td>\n",
       "    </tr>\n",
       "    <tr>\n",
       "      <th>3</th>\n",
       "      <td>David</td>\n",
       "      <td>7.2</td>\n",
       "      <td>64.0</td>\n",
       "    </tr>\n",
       "    <tr>\n",
       "      <th>4</th>\n",
       "      <td>Eve</td>\n",
       "      <td>22.1</td>\n",
       "      <td>10.0</td>\n",
       "    </tr>\n",
       "    <tr>\n",
       "      <th>5</th>\n",
       "      <td>Frank</td>\n",
       "      <td>35.4</td>\n",
       "      <td>87.0</td>\n",
       "    </tr>\n",
       "    <tr>\n",
       "      <th>6</th>\n",
       "      <td>Grace</td>\n",
       "      <td>9.6</td>\n",
       "      <td>33.0</td>\n",
       "    </tr>\n",
       "    <tr>\n",
       "      <th>7</th>\n",
       "      <td>Hannah</td>\n",
       "      <td>50.7</td>\n",
       "      <td>5.0</td>\n",
       "    </tr>\n",
       "    <tr>\n",
       "      <th>8</th>\n",
       "      <td>Isaac</td>\n",
       "      <td>60.3</td>\n",
       "      <td>77.0</td>\n",
       "    </tr>\n",
       "    <tr>\n",
       "      <th>9</th>\n",
       "      <td>Jack</td>\n",
       "      <td>73.9</td>\n",
       "      <td>35.0</td>\n",
       "    </tr>\n",
       "    <tr>\n",
       "      <th>10</th>\n",
       "      <td>Kathy</td>\n",
       "      <td>82.2</td>\n",
       "      <td>27.0</td>\n",
       "    </tr>\n",
       "    <tr>\n",
       "      <th>11</th>\n",
       "      <td>Leo</td>\n",
       "      <td>100.1</td>\n",
       "      <td>84.0</td>\n",
       "    </tr>\n",
       "    <tr>\n",
       "      <th>12</th>\n",
       "      <td>Mona</td>\n",
       "      <td>45.0</td>\n",
       "      <td>17.0</td>\n",
       "    </tr>\n",
       "    <tr>\n",
       "      <th>13</th>\n",
       "      <td>Nathan</td>\n",
       "      <td>12.3</td>\n",
       "      <td>9.0</td>\n",
       "    </tr>\n",
       "    <tr>\n",
       "      <th>14</th>\n",
       "      <td>Olivia</td>\n",
       "      <td>18.5</td>\n",
       "      <td>39.0</td>\n",
       "    </tr>\n",
       "    <tr>\n",
       "      <th>15</th>\n",
       "      <td>Paul</td>\n",
       "      <td>51.2</td>\n",
       "      <td>44.0</td>\n",
       "    </tr>\n",
       "    <tr>\n",
       "      <th>16</th>\n",
       "      <td>Quincy</td>\n",
       "      <td>67.4</td>\n",
       "      <td>26.0</td>\n",
       "    </tr>\n",
       "    <tr>\n",
       "      <th>17</th>\n",
       "      <td>Rachel</td>\n",
       "      <td>24.8</td>\n",
       "      <td>70.0</td>\n",
       "    </tr>\n",
       "    <tr>\n",
       "      <th>18</th>\n",
       "      <td>Sam</td>\n",
       "      <td>88.9</td>\n",
       "      <td>40.0</td>\n",
       "    </tr>\n",
       "    <tr>\n",
       "      <th>19</th>\n",
       "      <td>Tina</td>\n",
       "      <td>44.7</td>\n",
       "      <td>11.0</td>\n",
       "    </tr>\n",
       "    <tr>\n",
       "      <th>20</th>\n",
       "      <td>Uma</td>\n",
       "      <td>99.6</td>\n",
       "      <td>68.0</td>\n",
       "    </tr>\n",
       "    <tr>\n",
       "      <th>21</th>\n",
       "      <td>Vera</td>\n",
       "      <td>20.4</td>\n",
       "      <td>60.0</td>\n",
       "    </tr>\n",
       "    <tr>\n",
       "      <th>22</th>\n",
       "      <td>Walter</td>\n",
       "      <td>71.1</td>\n",
       "      <td>59.0</td>\n",
       "    </tr>\n",
       "    <tr>\n",
       "      <th>23</th>\n",
       "      <td>Xander</td>\n",
       "      <td>29.3</td>\n",
       "      <td>41.0</td>\n",
       "    </tr>\n",
       "    <tr>\n",
       "      <th>24</th>\n",
       "      <td>Zane</td>\n",
       "      <td>10.0</td>\n",
       "      <td>52.0</td>\n",
       "    </tr>\n",
       "    <tr>\n",
       "      <th>25</th>\n",
       "      <td>Ava</td>\n",
       "      <td>27.2</td>\n",
       "      <td>50.0</td>\n",
       "    </tr>\n",
       "    <tr>\n",
       "      <th>26</th>\n",
       "      <td>Blake</td>\n",
       "      <td>36.5</td>\n",
       "      <td>23.0</td>\n",
       "    </tr>\n",
       "    <tr>\n",
       "      <th>27</th>\n",
       "      <td>Cathy</td>\n",
       "      <td>17.9</td>\n",
       "      <td>56.0</td>\n",
       "    </tr>\n",
       "    <tr>\n",
       "      <th>28</th>\n",
       "      <td>Derek</td>\n",
       "      <td>39.8</td>\n",
       "      <td>78.0</td>\n",
       "    </tr>\n",
       "    <tr>\n",
       "      <th>29</th>\n",
       "      <td>Emma</td>\n",
       "      <td>41.0</td>\n",
       "      <td>1.0</td>\n",
       "    </tr>\n",
       "    <tr>\n",
       "      <th>30</th>\n",
       "      <td>Felix</td>\n",
       "      <td>80.4</td>\n",
       "      <td>4.0</td>\n",
       "    </tr>\n",
       "    <tr>\n",
       "      <th>31</th>\n",
       "      <td>Gina</td>\n",
       "      <td>55.6</td>\n",
       "      <td>36.0</td>\n",
       "    </tr>\n",
       "    <tr>\n",
       "      <th>32</th>\n",
       "      <td>Holly</td>\n",
       "      <td>62.7</td>\n",
       "      <td>8.0</td>\n",
       "    </tr>\n",
       "    <tr>\n",
       "      <th>33</th>\n",
       "      <td>Ivy</td>\n",
       "      <td>30.3</td>\n",
       "      <td>30.0</td>\n",
       "    </tr>\n",
       "    <tr>\n",
       "      <th>34</th>\n",
       "      <td>James</td>\n",
       "      <td>90.2</td>\n",
       "      <td>46.0</td>\n",
       "    </tr>\n",
       "    <tr>\n",
       "      <th>35</th>\n",
       "      <td>Kelly</td>\n",
       "      <td>33.9</td>\n",
       "      <td>74.0</td>\n",
       "    </tr>\n",
       "  </tbody>\n",
       "</table>\n",
       "</div>"
      ],
      "text/plain": [
       "      Names  study_hour  Grades\n",
       "0     Alice         4.5    52.0\n",
       "1       Bob         3.5    99.0\n",
       "2   Charlie        15.8    53.0\n",
       "3     David         7.2    64.0\n",
       "4       Eve        22.1    10.0\n",
       "5     Frank        35.4    87.0\n",
       "6     Grace         9.6    33.0\n",
       "7    Hannah        50.7     5.0\n",
       "8     Isaac        60.3    77.0\n",
       "9      Jack        73.9    35.0\n",
       "10    Kathy        82.2    27.0\n",
       "11      Leo       100.1    84.0\n",
       "12     Mona        45.0    17.0\n",
       "13   Nathan        12.3     9.0\n",
       "14   Olivia        18.5    39.0\n",
       "15     Paul        51.2    44.0\n",
       "16   Quincy        67.4    26.0\n",
       "17   Rachel        24.8    70.0\n",
       "18      Sam        88.9    40.0\n",
       "19     Tina        44.7    11.0\n",
       "20      Uma        99.6    68.0\n",
       "21     Vera        20.4    60.0\n",
       "22   Walter        71.1    59.0\n",
       "23   Xander        29.3    41.0\n",
       "24     Zane        10.0    52.0\n",
       "25      Ava        27.2    50.0\n",
       "26    Blake        36.5    23.0\n",
       "27    Cathy        17.9    56.0\n",
       "28    Derek        39.8    78.0\n",
       "29     Emma        41.0     1.0\n",
       "30    Felix        80.4     4.0\n",
       "31     Gina        55.6    36.0\n",
       "32    Holly        62.7     8.0\n",
       "33      Ivy        30.3    30.0\n",
       "34    James        90.2    46.0\n",
       "35    Kelly        33.9    74.0"
      ]
     },
     "execution_count": 136,
     "metadata": {},
     "output_type": "execute_result"
    }
   ],
   "source": [
    "students_details"
   ]
  },
  {
   "cell_type": "raw",
   "id": "4aa5540a-d9d9-42b7-96ef-b945d7eb5727",
   "metadata": {},
   "source": [
    "Day 1 Hands on exercise : Part 2:\n",
    " \n",
    "Lab Practice Problems for Python Libraries in Data Analysis\n",
    "Objective: Introduce new learners to Python's NumPy and pandas libraries for basic data manipulation and analysis using DataFrame\n",
    "Problem 1: Getting Started with NumPy\n",
    "Create a 1D NumPy array with the numbers 1 to 10.\n",
    "Reshape the array into a 2x5 matrix.\n",
    "Extract the first row and the second column of the matrix.\n",
    "Compute the mean, sum, and standard deviation of all elements in the matrix.\n",
    "Problem 2: Understanding pandas DataFrame\n",
    "Create a pandas DataFrame with the following data:\n",
    "Name\tAge\tGender\tCity\tMarks\n",
    "Alice\t20\tF\tNew York\t85\n",
    "Bob\t    22\tM\tBoston\t90\n",
    "Carol\t19\tF\tChicago\t78\n",
    "Dave\t21\tM\tSeattle\t88\n",
    " "
   ]
  },
  {
   "cell_type": "code",
   "execution_count": 148,
   "id": "19ccbf83-34b7-4a33-9e68-1f802d47f271",
   "metadata": {},
   "outputs": [
    {
     "data": {
      "text/plain": [
       "list"
      ]
     },
     "execution_count": 148,
     "metadata": {},
     "output_type": "execute_result"
    }
   ],
   "source": [
    "sample_list=[1,2,3,4,5,6,7,8,9,10]\n",
    "type(sample_list)"
   ]
  },
  {
   "cell_type": "code",
   "execution_count": 156,
   "id": "38d70b0e-e38f-4150-ace1-ff06acdb7b6b",
   "metadata": {},
   "outputs": [
    {
     "data": {
      "text/plain": [
       "array([ 1,  2,  3,  4,  5,  6,  7,  8,  9, 10])"
      ]
     },
     "execution_count": 156,
     "metadata": {},
     "output_type": "execute_result"
    }
   ],
   "source": [
    "sample_array=np.array(sample_list)\n",
    "sample_array\n"
   ]
  },
  {
   "cell_type": "code",
   "execution_count": 158,
   "id": "d0232ecd-26c1-4c9d-b1be-106d96f07a55",
   "metadata": {},
   "outputs": [
    {
     "name": "stdout",
     "output_type": "stream",
     "text": [
      "<class 'numpy.ndarray'>\n"
     ]
    }
   ],
   "source": [
    "print(type(sample_array))"
   ]
  },
  {
   "cell_type": "code",
   "execution_count": 166,
   "id": "09212385-5c5f-43e6-87d9-e099bbb2a61e",
   "metadata": {},
   "outputs": [],
   "source": [
    "matrix = sample_array.reshape(2, 5)"
   ]
  },
  {
   "cell_type": "code",
   "execution_count": 168,
   "id": "27ffc336-634b-48f1-91f0-fa0377159c8a",
   "metadata": {},
   "outputs": [
    {
     "data": {
      "text/plain": [
       "array([[ 1,  2,  3,  4,  5],\n",
       "       [ 6,  7,  8,  9, 10]])"
      ]
     },
     "execution_count": 168,
     "metadata": {},
     "output_type": "execute_result"
    }
   ],
   "source": [
    "matrix"
   ]
  },
  {
   "cell_type": "code",
   "execution_count": 181,
   "id": "e8b6ced9-f47e-47f1-9ed3-118ceb9992ba",
   "metadata": {},
   "outputs": [
    {
     "data": {
      "text/plain": [
       "array([1, 2, 3, 4, 5])"
      ]
     },
     "execution_count": 181,
     "metadata": {},
     "output_type": "execute_result"
    }
   ],
   "source": [
    "first_row=matrix[0]\n",
    "first_row"
   ]
  },
  {
   "cell_type": "code",
   "execution_count": 187,
   "id": "30158f6f-8204-413e-ab25-48b93ec0aeff",
   "metadata": {},
   "outputs": [
    {
     "data": {
      "text/plain": [
       "array([2, 7])"
      ]
     },
     "execution_count": 187,
     "metadata": {},
     "output_type": "execute_result"
    }
   ],
   "source": [
    "second_column=matrix[:,1]\n",
    "second_column"
   ]
  },
  {
   "cell_type": "code",
   "execution_count": 189,
   "id": "1f256abe-03b9-46fe-be88-a6f48639e380",
   "metadata": {},
   "outputs": [],
   "source": [
    "#Compute the mean, sum, and standard deviation of all elements in the matrix"
   ]
  },
  {
   "cell_type": "code",
   "execution_count": 196,
   "id": "8b7b14f3-7f8b-46ad-b32a-1b43a5b3f0d0",
   "metadata": {},
   "outputs": [],
   "source": [
    "mean_matrix=np.mean(matrix)"
   ]
  },
  {
   "cell_type": "code",
   "execution_count": 198,
   "id": "010c712b-2b1b-441e-91b0-3218d68bb276",
   "metadata": {},
   "outputs": [
    {
     "data": {
      "text/plain": [
       "5.5"
      ]
     },
     "execution_count": 198,
     "metadata": {},
     "output_type": "execute_result"
    }
   ],
   "source": [
    "mean_matrix"
   ]
  },
  {
   "cell_type": "code",
   "execution_count": 200,
   "id": "4535c455-1d14-434f-a7f6-200c6cfb78ea",
   "metadata": {},
   "outputs": [
    {
     "data": {
      "text/plain": [
       "55"
      ]
     },
     "execution_count": 200,
     "metadata": {},
     "output_type": "execute_result"
    }
   ],
   "source": [
    "sum_matrix=np.sum(matrix)\n",
    "sum_matrix"
   ]
  },
  {
   "cell_type": "code",
   "execution_count": 202,
   "id": "76a3d231-218a-467a-874e-c731ba6f3656",
   "metadata": {},
   "outputs": [
    {
     "data": {
      "text/plain": [
       "2.8722813232690143"
      ]
     },
     "execution_count": 202,
     "metadata": {},
     "output_type": "execute_result"
    }
   ],
   "source": [
    "sd_matrix=np.std(matrix)\n",
    "sd_matrix"
   ]
  },
  {
   "cell_type": "code",
   "execution_count": 208,
   "id": "57982d66-b7e2-4493-95b1-552a924e6bf7",
   "metadata": {},
   "outputs": [],
   "source": [
    "Dataframe_1=pd.DataFrame({\"Name\":[\"Alice\",\"Bob\",\"Carol\",\"Dave\"],\n",
    "\"Age\":[20,22,19,21],\"Gender\":[\"F\",\"M\",\"F\",\"M\"],\t\n",
    "\"City\":[\"New York\",\"Boston\",\"Chicago\",\"Seattle\"],\"Marks\":[85,90,78,88]})\n",
    "\t\n"
   ]
  },
  {
   "cell_type": "code",
   "execution_count": 210,
   "id": "ee23e229-edf4-461b-8641-a0dfb8867d1e",
   "metadata": {},
   "outputs": [
    {
     "data": {
      "text/html": [
       "<div>\n",
       "<style scoped>\n",
       "    .dataframe tbody tr th:only-of-type {\n",
       "        vertical-align: middle;\n",
       "    }\n",
       "\n",
       "    .dataframe tbody tr th {\n",
       "        vertical-align: top;\n",
       "    }\n",
       "\n",
       "    .dataframe thead th {\n",
       "        text-align: right;\n",
       "    }\n",
       "</style>\n",
       "<table border=\"1\" class=\"dataframe\">\n",
       "  <thead>\n",
       "    <tr style=\"text-align: right;\">\n",
       "      <th></th>\n",
       "      <th>Name</th>\n",
       "      <th>Age</th>\n",
       "      <th>Gender</th>\n",
       "      <th>City</th>\n",
       "      <th>Marks</th>\n",
       "    </tr>\n",
       "  </thead>\n",
       "  <tbody>\n",
       "    <tr>\n",
       "      <th>0</th>\n",
       "      <td>Alice</td>\n",
       "      <td>20</td>\n",
       "      <td>F</td>\n",
       "      <td>New York</td>\n",
       "      <td>85</td>\n",
       "    </tr>\n",
       "    <tr>\n",
       "      <th>1</th>\n",
       "      <td>Bob</td>\n",
       "      <td>22</td>\n",
       "      <td>M</td>\n",
       "      <td>Boston</td>\n",
       "      <td>90</td>\n",
       "    </tr>\n",
       "    <tr>\n",
       "      <th>2</th>\n",
       "      <td>Carol</td>\n",
       "      <td>19</td>\n",
       "      <td>F</td>\n",
       "      <td>Chicago</td>\n",
       "      <td>78</td>\n",
       "    </tr>\n",
       "    <tr>\n",
       "      <th>3</th>\n",
       "      <td>Dave</td>\n",
       "      <td>21</td>\n",
       "      <td>M</td>\n",
       "      <td>Seattle</td>\n",
       "      <td>88</td>\n",
       "    </tr>\n",
       "  </tbody>\n",
       "</table>\n",
       "</div>"
      ],
      "text/plain": [
       "    Name  Age Gender      City  Marks\n",
       "0  Alice   20      F  New York     85\n",
       "1    Bob   22      M    Boston     90\n",
       "2  Carol   19      F   Chicago     78\n",
       "3   Dave   21      M   Seattle     88"
      ]
     },
     "execution_count": 210,
     "metadata": {},
     "output_type": "execute_result"
    }
   ],
   "source": [
    "Dataframe_1\n"
   ]
  },
  {
   "cell_type": "code",
   "execution_count": null,
   "id": "1662bd1d-2c08-42c4-891a-3d30a0382cfb",
   "metadata": {},
   "outputs": [],
   "source": []
  }
 ],
 "metadata": {
  "kernelspec": {
   "display_name": "Python 3 (ipykernel)",
   "language": "python",
   "name": "python3"
  },
  "language_info": {
   "codemirror_mode": {
    "name": "ipython",
    "version": 3
   },
   "file_extension": ".py",
   "mimetype": "text/x-python",
   "name": "python",
   "nbconvert_exporter": "python",
   "pygments_lexer": "ipython3",
   "version": "3.12.4"
  }
 },
 "nbformat": 4,
 "nbformat_minor": 5
}
